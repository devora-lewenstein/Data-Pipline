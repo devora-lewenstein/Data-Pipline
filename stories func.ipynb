{
 "cells": [
  {
   "cell_type": "code",
   "execution_count": 1,
   "metadata": {},
   "outputs": [],
   "source": [
    "import pandas as pd\n",
    "from pipeline import Pipeline\n",
    "from pipeline import build_csv\n",
    "from stop_words import stop_words\n",
    "import string\n",
    "import json\n",
    "import io\n",
    "import datetime\n",
    "import csv"
   ]
  },
  {
   "cell_type": "code",
   "execution_count": 2,
   "metadata": {},
   "outputs": [],
   "source": [
    "pipeline = Pipeline()"
   ]
  },
  {
   "cell_type": "code",
   "execution_count": 3,
   "metadata": {},
   "outputs": [],
   "source": [
    "def file_to_json(file):\n",
    "    with open(file, \"r\") as f:\n",
    "        j_file = json.load(f)\n",
    "    df = pd.json_normalize(j_file['stories'])\n",
    "    return df\n",
    "\n",
    "stories =file_to_json(\"hn_stories_2014.json\")"
   ]
  },
  {
   "cell_type": "code",
   "execution_count": 4,
   "metadata": {},
   "outputs": [],
   "source": [
    "def filter_stories(df):\n",
    "    df = df[df[\"points\"]>50]\n",
    "    df = df[df['num_comments']>1]\n",
    "    df= df[~df['title'].str.startswith('Ask HN')]\n",
    "    return df\n",
    "stories = filter_stories(stories)"
   ]
  },
  {
   "cell_type": "code",
   "execution_count": 5,
   "metadata": {},
   "outputs": [],
   "source": [
    "def json_to_csv(df):\n",
    "    df = df[['objectID', 'created_at', 'url', 'points', 'title']]\n",
    "    df.to_csv('cleaned_stories.csv')\n",
    "    df = pd.read_csv('cleaned_stories.csv', index_col=0, parse_dates=['created_at'])\n",
    "    return df\n",
    "stories = json_to_csv(stories)    "
   ]
  },
  {
   "cell_type": "raw",
   "metadata": {},
   "source": [
    "# %load pipeline.py\n",
    "#file - when use 'with open' it does an open so we can see it.  process transferring list of list json file into a csv.  to do a process of strucuture change need the T of ETL - transformation to the list of list to a csv.  The grabbing hold of this data needs a temporary storage to put it somewhere.  it need to grab on to the intial list of list to change it\n",
    "\n",
    "list file is where it is going to be during the grab\n",
    "\n",
    "\n",
    "def build_csv(lines, header=None, file=None):\n",
    "    if header:\n",
    "        lines = itertools.chain([header], lines)\n",
    "    writer = csv.writer(file, delimiter=',')\n",
    "    writer.writerows(lines)\n",
    "    file.seek(0)\n",
    "    return file"
   ]
  },
  {
   "cell_type": "code",
   "execution_count": 7,
   "metadata": {},
   "outputs": [],
   "source": [
    "#add generator\n",
    "def extract_titles(df, col):\n",
    "    title = df['title']\n",
    "    yield (title)\n",
    "title = extract_titles(stories, 'title')"
   ]
  },
  {
   "cell_type": "code",
   "execution_count": 8,
   "metadata": {},
   "outputs": [],
   "source": [
    "def clean_titles(df, col):\n",
    "#     should not do like htis cause room for more error\n",
    "#     df[col] = df[col].str.lower()\n",
    "#     df[col] = df[col].str.replace(f'[{string.punctuation}]', '')\n",
    "#     df[col] = df[col].str.replace('‘', '').str.replace('’', '')\n",
    "    df[col] = df[col].str.lower().str.replace(f'[{string.punctuation}]', '').str.replace('‘', '').str.replace('’', '')\n",
    "    return df\n",
    "stories = clean_titles(stories, 'title')"
   ]
  },
  {
   "cell_type": "code",
   "execution_count": 9,
   "metadata": {},
   "outputs": [],
   "source": [
    "def build_keyword_dictionary(df, col):\n",
    "    counts = {}\n",
    "    for each in df[col].str.split():\n",
    "        for word in each:\n",
    "            if word not in stop_words:\n",
    "                if word not in counts:\n",
    "                    counts[word] = 0\n",
    "                counts[word] += 1\n",
    "    counts = sorted(counts.items(), key=lambda x: (-x[1], x[0]))\n",
    "    return counts\n",
    "word_freq = build_keyword_dictionary(stories, 'title')"
   ]
  },
  {
   "cell_type": "code",
   "execution_count": 10,
   "metadata": {},
   "outputs": [],
   "source": [
    "def top_100(dictionary):\n",
    "    dict1 = dictionary[:99]\n",
    "    tup = tuple(dict1)\n",
    "    return tup\n",
    "\n",
    "tup = top_100(word_freq)"
   ]
  },
  {
   "cell_type": "code",
   "execution_count": 11,
   "metadata": {},
   "outputs": [
    {
     "data": {
      "text/plain": [
       "(('new', 185),\n",
       " ('google', 167),\n",
       " ('bitcoin', 101),\n",
       " ('open', 92),\n",
       " ('programming', 90),\n",
       " ('web', 89),\n",
       " ('data', 85),\n",
       " ('video', 79),\n",
       " ('python', 76),\n",
       " ('code', 72),\n",
       " ('facebook', 71),\n",
       " ('released', 71),\n",
       " ('using', 71),\n",
       " ('2013', 65),\n",
       " ('javascript', 65),\n",
       " ('free', 64),\n",
       " ('source', 64),\n",
       " ('game', 63),\n",
       " ('internet', 63),\n",
       " ('c', 59),\n",
       " ('microsoft', 59),\n",
       " ('linux', 58),\n",
       " ('app', 57),\n",
       " ('pdf', 55),\n",
       " ('dont', 54),\n",
       " ('language', 54),\n",
       " ('work', 54),\n",
       " ('2014', 52),\n",
       " ('software', 52),\n",
       " ('startup', 51),\n",
       " ('apple', 50),\n",
       " ('make', 50),\n",
       " ('use', 50),\n",
       " ('security', 48),\n",
       " ('time', 48),\n",
       " ('yc', 48),\n",
       " ('github', 45),\n",
       " ('nsa', 45),\n",
       " ('windows', 44),\n",
       " ('1', 41),\n",
       " ('like', 41),\n",
       " ('way', 41),\n",
       " ('world', 41),\n",
       " ('computer', 40),\n",
       " ('heartbleed', 40),\n",
       " ('project', 40),\n",
       " ('design', 37),\n",
       " ('git', 37),\n",
       " ('ios', 37),\n",
       " ('users', 37),\n",
       " ('ceo', 36),\n",
       " ('developer', 36),\n",
       " ('life', 36),\n",
       " ('os', 36),\n",
       " ('twitter', 36),\n",
       " ('vs', 36),\n",
       " ('big', 35),\n",
       " ('day', 35),\n",
       " ('android', 34),\n",
       " ('online', 34),\n",
       " ('court', 33),\n",
       " ('simple', 33),\n",
       " ('years', 33),\n",
       " ('api', 32),\n",
       " ('apps', 32),\n",
       " ('browser', 32),\n",
       " ('guide', 32),\n",
       " ('learning', 32),\n",
       " ('mt', 32),\n",
       " ('says', 32),\n",
       " ('amazon', 31),\n",
       " ('engine', 31),\n",
       " ('fast', 31),\n",
       " ('firefox', 31),\n",
       " ('gox', 31),\n",
       " ('mozilla', 31),\n",
       " ('problem', 31),\n",
       " ('server', 31),\n",
       " ('site', 31),\n",
       " ('introducing', 30),\n",
       " ('year', 30),\n",
       " ('better', 29),\n",
       " ('built', 29),\n",
       " ('million', 29),\n",
       " ('people', 29),\n",
       " ('stop', 29),\n",
       " ('support', 29),\n",
       " ('text', 29),\n",
       " ('3', 28),\n",
       " ('development', 28),\n",
       " ('does', 28),\n",
       " ('tech', 28),\n",
       " ('2048', 27),\n",
       " ('best', 27),\n",
       " ('billion', 27),\n",
       " ('chrome', 27),\n",
       " ('developers', 27),\n",
       " ('did', 27),\n",
       " ('inside', 27))"
      ]
     },
     "execution_count": 11,
     "metadata": {},
     "output_type": "execute_result"
    }
   ],
   "source": [
    "tup"
   ]
  },
  {
   "cell_type": "code",
   "execution_count": null,
   "metadata": {},
   "outputs": [],
   "source": []
  },
  {
   "cell_type": "code",
   "execution_count": null,
   "metadata": {},
   "outputs": [],
   "source": []
  },
  {
   "cell_type": "code",
   "execution_count": null,
   "metadata": {},
   "outputs": [],
   "source": []
  }
 ],
 "metadata": {
  "kernelspec": {
   "display_name": "Python 3",
   "language": "python",
   "name": "python3"
  },
  "language_info": {
   "codemirror_mode": {
    "name": "ipython",
    "version": 3
   },
   "file_extension": ".py",
   "mimetype": "text/x-python",
   "name": "python",
   "nbconvert_exporter": "python",
   "pygments_lexer": "ipython3",
   "version": "3.8.5"
  }
 },
 "nbformat": 4,
 "nbformat_minor": 4
}
